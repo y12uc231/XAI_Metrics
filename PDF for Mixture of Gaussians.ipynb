{
 "cells": [
  {
   "cell_type": "code",
   "execution_count": null,
   "id": "30e7c8f1",
   "metadata": {},
   "outputs": [],
   "source": [
    "# compute PDF for mixture of gaussians\n",
    "\n"
   ]
  },
  {
   "cell_type": "code",
   "execution_count": 1,
   "id": "042b1180",
   "metadata": {},
   "outputs": [],
   "source": [
    "# Sampling from GMM : https://medium.com/analytics-vidhya/sampling-from-gaussian-mixture-models-f1ab9cac2721\n",
    "    \n"
   ]
  },
  {
   "cell_type": "code",
   "execution_count": null,
   "id": "82936fd8",
   "metadata": {},
   "outputs": [],
   "source": []
  }
 ],
 "metadata": {
  "kernelspec": {
   "display_name": "Python 3 (ipykernel)",
   "language": "python",
   "name": "python3"
  },
  "language_info": {
   "codemirror_mode": {
    "name": "ipython",
    "version": 3
   },
   "file_extension": ".py",
   "mimetype": "text/x-python",
   "name": "python",
   "nbconvert_exporter": "python",
   "pygments_lexer": "ipython3",
   "version": "3.9.12"
  }
 },
 "nbformat": 4,
 "nbformat_minor": 5
}
